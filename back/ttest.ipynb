{
 "cells": [
  {
   "cell_type": "code",
   "execution_count": 2,
   "metadata": {},
   "outputs": [],
   "source": [
    "from exa_py import Exa\n",
    "\n",
    "exa = Exa(api_key = \"9f05217d-f33e-4f74-9838-3646d7cc66f2\")\n",
    "\n",
    "result = exa.search_and_contents(\n",
    "  \"aghiles djebara\",\n",
    "  text = True\n",
    ")"
   ]
  },
  {
   "cell_type": "code",
   "execution_count": 6,
   "metadata": {},
   "outputs": [
    {
     "data": {
      "text/plain": [
       "'https://fr.linkedin.com/in/ghiles-djebara-7005b417a'"
      ]
     },
     "execution_count": 6,
     "metadata": {},
     "output_type": "execute_result"
    }
   ],
   "source": [
    "result.results[0].url"
   ]
  },
  {
   "cell_type": "code",
   "execution_count": 1,
   "metadata": {},
   "outputs": [
    {
     "data": {
      "text/plain": [
       "'Aghiles DJEBARA\\nPosition: AI & Software Engineer\\nLocation: Paris, Île-de-France, France\\nNumber of connections: 500+ connections\\nBio: I want to be useful\\nCurrent Job Info:\\nemployer: WISP Solutions\\ntype: AI Software Engineer\\nsocial_url: https://www.linkedin.com/company/wisp-solutions\\n\\nExperiences:\\n\\nAI Software Engineer at WISP Solutions from Oct 2023 to Present. Location: Ville de Paris, Île-de-France, France. Description: - Developed, maintained, and enhanced a robust Python codebase, leveraging design patterns and best practices to ensure scalability, readability, and efficiency.- Coordinated integration between IoT hardware, machine learning models, and server infrastructure for seamless operation and data flow.- Established and maintained a CI/CD pipeline to streamline deployment processes, ensuring consistent, reliable updates to traffic management systems.- Designed and implemented complex simulations and algorithms to coordinate traffic light systems, optimizing traffic flow and reducing congestion using real-time and historical data.- Implemented, trained, and tested deep reinforcement learning models and other algorithms to manage traffic signals dynamically, reducing waiting times and improving traffic flow efficiency.\\nData scientist at Orange from Mar 2023 to Nov 2023. Location: Paris et périphérie. Description: - Development of the \"Radio Site Energy\" platform, which helps engineers predict energy consumption of base stations before installation, based on their characteristics using Machine Learning techniques.- Use of VueJs and FastAPI for the developmment of the platform- Spatial and time data analysis.- CI pipeline using GitLab.\\nFounder at Vitrina DZ from Mar 2022 to Mar 2023. Description: Design and Development : Complete creation from A to Z of an innovative website to centralize local recommendations in Algeria, including design, development, and product positioning.Launch and Initial Traction : Execution of a launch campaign that achieved notable traction among users. Over 50 businesses registered on the platform and an initial traction of over a hundred daily users.Challenges Faced : Weak local investment ecosystem, limiting expansion opportunities despite proven potential. The company closed to pursue an international opportunity.\\nArtificial Intelligence Developer at Eden AI from Feb 2022 to Jul 2022. Location: Lyon, Auvergne-Rhône-Alpes, France. Description: - Automatic Summarization of conversational data using transformers (LLMs).- Automatic text Clustering using unsupervised learning.- Text Labeling using Keyword Extraction.- Development of a website called \"Data Voice\" using VueJS and Flask.- Deployment using Docker and AWS.\\nEngineer at AIM-x from Oct 2020 to Jul 2021. Description: We have designed and implemented an intelligent traffic light control system capable of capturing information from the environment with cameras in order to control traffic lights in a certain area.I later joined a french startup in 2023 that works on the same problem as a founding engineer.\\nChercheur stagiaire at Laboratoire de Recherche en Intelligence Artificielle (LRIA) from Oct 2018 to Jul 2019. Location: Alger, Algérie. Description: - State of art review of recommender systems.- Implementation of collaborative recommendation algorithms.- Hybrid algorithm using Ontologies and social information.\\nEducation:\\nInstitution: Université Paris Cité. Degree: [\"Master\\'s degree\", \\'Data science and Machine Learning\\'] Duration: None.\\nInstitution: University of Science and Technology of Algiers (USTHB). Degree: [\"Master\\'s degree\", \\'Artificial Intelligence\\', \\'Intelligent Computer Systems\\'] Duration: None.\\nInstitution: University of Science and Technology of Algiers (USTHB). Degree: [\"Bachelor\\'s degree\", \\'Computer Science\\'] Duration: None.\\n\\nLanguages:\\nlanguage: Anglais\\nproficiency: Full professional proficiency\\n\\nlanguage: Français\\nproficiency: Native or bilingual proficiency\\n\\n\\nCertifications:\\ncertification_name: IETLS ACADEMIC - C1\\ninstitution_name: British Council\\ntime: Nov 2021\\n\\ncertification_name: Samsung Innovation Campus - Data science\\ninstitution_name: Samsung Innovation Campus\\ntime: Oct 2021\\n\\ncertification_name: TCF C2 - 699/699\\ninstitution_name: Institut français\\ntime: None\\n\\n\\nRecommendations:\\n“I met Aghiles at the university and i had the opportunity to work with him on many projects, we won several competitions together and i can ensure you that you will never regret working with him. He always has great and innovative ideas and he is a hardworking person. Moreover, he is very friendly and flexible and can easily adapt to change. ”\\n\\nVolunteering:\\nposition: IT Department and Project Manager\\ninstitution_name: Google Developer Student Club USTHB\\nstart_time: Sep 2021\\nend_time: Present\\n\\nposition: Project Manager\\ninstitution_name: Open Minds Club\\nstart_time: None\\nend_time: None\\n\\nposition: External Relations Manager\\ninstitution_name: AIESEC in Algeria\\nstart_time: Sep 2018\\nend_time: Apr 2020\\n\\nposition: Membre actif\\ninstitution_name: Micro Club\\nstart_time: Sep 2018\\nend_time: Jun 2020'"
      ]
     },
     "execution_count": 1,
     "metadata": {},
     "output_type": "execute_result"
    }
   ],
   "source": [
    "from exa_py import Exa\n",
    "\n",
    "exa = Exa(api_key = \"9f05217d-f33e-4f74-9838-3646d7cc66f2\")\n",
    "\n",
    "result = exa.search_and_contents(\n",
    "  \"Aghiles djebara\",\n",
    "  text = True\n",
    ")\n",
    "\n",
    "result.results[0].text"
   ]
  }
 ],
 "metadata": {
  "kernelspec": {
   "display_name": "Python 3",
   "language": "python",
   "name": "python3"
  },
  "language_info": {
   "codemirror_mode": {
    "name": "ipython",
    "version": 3
   },
   "file_extension": ".py",
   "mimetype": "text/x-python",
   "name": "python",
   "nbconvert_exporter": "python",
   "pygments_lexer": "ipython3",
   "version": "3.10.12"
  }
 },
 "nbformat": 4,
 "nbformat_minor": 2
}
